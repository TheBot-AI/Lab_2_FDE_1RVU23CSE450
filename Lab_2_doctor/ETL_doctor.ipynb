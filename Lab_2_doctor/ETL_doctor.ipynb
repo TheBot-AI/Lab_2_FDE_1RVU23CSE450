{
 "cells": [
  {
   "cell_type": "code",
   "execution_count": 12,
   "id": "61bf819f",
   "metadata": {},
   "outputs": [
    {
     "name": "stdout",
     "output_type": "stream",
     "text": [
      "ETL complete. Cleaned data saved to 'cleaned_healthcare_data.csv'\n"
     ]
    }
   ],
   "source": [
    "# -------------------------------\n",
    "# Stage 1: Business Analyst Task\n",
    "# -------------------------------\n",
    "# Business Question: What are the top 5 products by revenue in the last quarter, and how does customer sentiment vary for these products?\n",
    "# Required data points: product_id, sale_price, quantity, sale_date, customer_id, sentiment_score\n",
    "\n",
    "# -------------------------------\n",
    "# Stage 2: Data Engineer Task\n",
    "# -------------------------------\n",
    "\n",
    "import pandas as pd\n",
    "import matplotlib.pyplot as plt\n",
    "import os\n",
    "\n",
    "# Ensure directory structure\n",
    "os.makedirs(\"data_warehouse\", exist_ok=True)\n",
    "\n",
    "patients_df = pd.read_csv(\"./raw_data/patients_data_with_doctor.csv\")\n",
    "doctors_df = pd.read_csv(\"./raw_data/doctors_info.csv\")\n",
    "feedback_df = pd.read_json(\"./raw_data/patient_feedback.json\")\n",
    "\n",
    "# Normalize column names\n",
    "patients_df.columns = patients_df.columns.str.strip().str.lower()\n",
    "doctors_df.columns = doctors_df.columns.str.strip().str.lower()\n",
    "feedback_df.columns = feedback_df.columns.str.strip().str.lower()\n",
    "\n",
    "# Convert review_date to datetime\n",
    "feedback_df['review_date'] = pd.to_datetime(feedback_df['review_date'], errors='coerce')\n",
    "\n",
    "# Drop duplicates if any\n",
    "patients_df.drop_duplicates(inplace=True)\n",
    "doctors_df.drop_duplicates(inplace=True)\n",
    "feedback_df.drop_duplicates(inplace=True)\n",
    "\n",
    "# Drop rows missing keys\n",
    "patients_df.dropna(subset=['doctor_id'], inplace=True)\n",
    "feedback_df.dropna(subset=['patient_id', 'patient_feedback_score'], inplace=True)\n",
    "\n",
    "# Merge patients with doctors\n",
    "patient_doctor_df = pd.merge(\n",
    "    patients_df,\n",
    "    doctors_df,\n",
    "    on='doctor_id',\n",
    "    how='left'\n",
    ")\n",
    "\n",
    "# Merge with feedback\n",
    "final_df = pd.merge(\n",
    "    patient_doctor_df,\n",
    "    feedback_df,\n",
    "    on='patient_id',\n",
    "    how='left'\n",
    ")\n",
    "\n",
    "# Save cleaned dataset\n",
    "final_df.to_csv(\"cleaned_healthcare_data.csv\", index=False)\n",
    "\n",
    "print(\"ETL complete. Cleaned data saved to 'cleaned_healthcare_data.csv'\")\n"
   ]
  },
  {
   "cell_type": "code",
   "execution_count": null,
   "id": "a846b8b8",
   "metadata": {},
   "outputs": [],
   "source": []
  },
  {
   "cell_type": "code",
   "execution_count": null,
   "id": "0ed280ac",
   "metadata": {},
   "outputs": [],
   "source": []
  }
 ],
 "metadata": {
  "kernelspec": {
   "display_name": "Python 3 (ipykernel)",
   "language": "python",
   "name": "python3"
  },
  "language_info": {
   "codemirror_mode": {
    "name": "ipython",
    "version": 3
   },
   "file_extension": ".py",
   "mimetype": "text/x-python",
   "name": "python",
   "nbconvert_exporter": "python",
   "pygments_lexer": "ipython3",
   "version": "3.11.5"
  }
 },
 "nbformat": 4,
 "nbformat_minor": 5
}
