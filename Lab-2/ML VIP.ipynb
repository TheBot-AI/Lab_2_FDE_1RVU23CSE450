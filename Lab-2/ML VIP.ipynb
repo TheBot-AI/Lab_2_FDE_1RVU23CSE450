{
 "cells": [
  {
   "cell_type": "code",
   "execution_count": 5,
   "id": "2f303d74",
   "metadata": {},
   "outputs": [
    {
     "name": "stdout",
     "output_type": "stream",
     "text": [
      "Updated dataset with VIP status saved to data_warehouse/processed_sales_with_vip.csv\n",
      "  customer_id VIP_status\n",
      "0       C_001    Non-VIP\n",
      "1       C_002    Non-VIP\n",
      "2       C_003    Non-VIP\n",
      "3       C_004    Non-VIP\n",
      "4       C_005    Non-VIP\n"
     ]
    }
   ],
   "source": [
    "import pandas as pd\n",
    "from sklearn.preprocessing import StandardScaler\n",
    "from sklearn.cluster import KMeans\n",
    "import os\n",
    "\n",
    "# Prevent OpenMP threading issues\n",
    "os.environ[\"OMP_NUM_THREADS\"] = \"1\"\n",
    "\n",
    "# Load processed sales data from ETL step\n",
    "df = pd.read_csv(\"data_warehouse/processed_sales_data.csv\")\n",
    "\n",
    "# ----------------------------\n",
    "# Step 1: Aggregate customer features\n",
    "# ----------------------------\n",
    "customer_df = (\n",
    "    df.groupby('customer_id')\n",
    "    .agg(\n",
    "        total_purchase=('total_revenue', 'sum'),\n",
    "        purchase_frequency=('product_id', 'count'),\n",
    "        avg_transaction_value=('total_revenue', 'mean')\n",
    "    )\n",
    "    .reset_index()\n",
    ")\n",
    "\n",
    "# ----------------------------\n",
    "# Step 2: Preprocessing\n",
    "# ----------------------------\n",
    "features = customer_df[['total_purchase', 'purchase_frequency', 'avg_transaction_value']]\n",
    "scaler = StandardScaler()\n",
    "X_scaled = scaler.fit_transform(features)\n",
    "\n",
    "# ----------------------------\n",
    "# Step 3: K-Means clustering\n",
    "# ----------------------------\n",
    "kmeans = KMeans(n_clusters=2, random_state=42, n_init=10)\n",
    "customer_df['cluster'] = kmeans.fit_predict(X_scaled)\n",
    "\n",
    "# Identify which cluster is VIP (higher total purchase)\n",
    "vip_cluster = customer_df.groupby('cluster')['total_purchase'].mean().idxmax()\n",
    "customer_df['VIP_status'] = customer_df['cluster'].apply(\n",
    "    lambda x: 'VIP' if x == vip_cluster else 'Non-VIP'\n",
    ")\n",
    "\n",
    "# ----------------------------\n",
    "# Step 4: Reverse ETL\n",
    "# ----------------------------\n",
    "df = df.merge(customer_df[['customer_id', 'VIP_status']], on='customer_id', how='left')\n",
    "\n",
    "# Save enriched dataset\n",
    "df.to_csv(\"data_warehouse/processed_sales_with_vip.csv\", index=False)\n",
    "print(\"Updated dataset with VIP status saved to data_warehouse/processed_sales_with_vip.csv\")\n",
    "\n",
    "# Optional: quick check\n",
    "print(df[['customer_id', 'VIP_status']].drop_duplicates().head())\n"
   ]
  },
  {
   "cell_type": "code",
   "execution_count": null,
   "id": "6bda0ffc",
   "metadata": {},
   "outputs": [],
   "source": []
  }
 ],
 "metadata": {
  "kernelspec": {
   "display_name": "Python 3 (ipykernel)",
   "language": "python",
   "name": "python3"
  },
  "language_info": {
   "codemirror_mode": {
    "name": "ipython",
    "version": 3
   },
   "file_extension": ".py",
   "mimetype": "text/x-python",
   "name": "python",
   "nbconvert_exporter": "python",
   "pygments_lexer": "ipython3",
   "version": "3.11.5"
  }
 },
 "nbformat": 4,
 "nbformat_minor": 5
}
